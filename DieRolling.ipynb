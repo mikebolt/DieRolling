{
 "cells": [
  {
   "cell_type": "markdown",
   "metadata": {},
   "source": [
    "# The Die Rolling Problem (Python3)"
   ]
  },
  {
   "cell_type": "code",
   "execution_count": 70,
   "metadata": {
    "collapsed": true
   },
   "outputs": [],
   "source": [
    "#code code code\n",
    "import math\n",
    "import random"
   ]
  },
  {
   "cell_type": "code",
   "execution_count": 3,
   "metadata": {
    "collapsed": false
   },
   "outputs": [
    {
     "name": "stdout",
     "output_type": "stream",
     "text": [
      "answers\n"
     ]
    }
   ],
   "source": [
    "print(\"answers\")"
   ]
  },
  {
   "cell_type": "code",
   "execution_count": null,
   "metadata": {
    "collapsed": true
   },
   "outputs": [],
   "source": [
    "# \"fbit\" is short for \"fractional bit,\" so called because Bernoulli r.v.s often have less than one bit of entropy."
   ]
  },
  {
   "cell_type": "code",
   "execution_count": null,
   "metadata": {
    "collapsed": true
   },
   "outputs": [],
   "source": [
    "# Information Pool\n",
    "information_pool = []"
   ]
  },
  {
   "cell_type": "code",
   "execution_count": null,
   "metadata": {
    "collapsed": true
   },
   "outputs": [],
   "source": [
    "# 'probability' is the probability (known beforehand) that the Bernoulli r.v. is True.\n",
    "# 'result' is the value of the Bernoulli r.v., either True or False.\n",
    "def store_information(probability, result):\n",
    "    information_pool = [(probability, result)] + entropy_pool"
   ]
  },
  {
   "cell_type": "code",
   "execution_count": 30,
   "metadata": {
    "collapsed": true
   },
   "outputs": [],
   "source": [
    "# We need an actual source of entropy, in the form of (assumed) random bits.\n",
    "# The actual source of entropy is a generator function, that returns one random bit at a time.\n",
    "# For the purposes of analysis, it comes bundled in a dictionary with an integer that keeps track\n",
    "# of the number of bits accessed so far.\n",
    "\n",
    "# An entropy source is a (bit_generator, num_bits_consumed) pair.\n",
    "def make_pseudorandom_entropy_source():\n",
    "    result = {\n",
    "        \"num_bits_consumed\": 0\n",
    "    }\n",
    "    \n",
    "    def make_pseudorandom_bit_generator():\n",
    "        while True:\n",
    "            result[\"num_bits_consumed\"] += 1\n",
    "            yield True if random.getrandbits(1) else False\n",
    "    \n",
    "    result[\"bit_generator\"] = make_pseudorandom_bit_generator()\n",
    "    return result"
   ]
  },
  {
   "cell_type": "code",
   "execution_count": 55,
   "metadata": {
    "collapsed": false
   },
   "outputs": [
    {
     "name": "stdout",
     "output_type": "stream",
     "text": [
      "False\n",
      "False\n",
      "False\n",
      "True\n",
      "False\n",
      "False\n",
      "False\n",
      "True\n",
      "True\n",
      "False\n",
      "10 bits consumed so far.\n"
     ]
    }
   ],
   "source": [
    "# Test out the entropy source.\n",
    "zoop = make_pseudorandom_entropy_source()\n",
    "for i in range(10):\n",
    "    print(next(zoop[\"bit_generator\"]))\n",
    "print(zoop[\"num_bits_consumed\"], \"bits consumed so far.\")"
   ]
  },
  {
   "cell_type": "code",
   "execution_count": null,
   "metadata": {
    "collapsed": false
   },
   "outputs": [],
   "source": []
  },
  {
   "cell_type": "code",
   "execution_count": 147,
   "metadata": {
    "collapsed": false
   },
   "outputs": [],
   "source": [
    "# Figure out how many bits are necessary to represent at least n different values.\n",
    "# Basically a base two logarithm.\n",
    "def bit_span(n):\n",
    "    bits_required = 0\n",
    "    test_bit = 1\n",
    "    while test_bit < n:\n",
    "        bits_required += 1\n",
    "        test_bit <<= 1\n",
    "    return bits_required\n",
    "\n",
    "# Gather enough random bits such that the bits, when treated as an unsigned integer,\n",
    "# could be at least as large as n - 1, so that it covers the whole range [0, n).\n",
    "# Use a redundancy to generate at least 'redundancy' times as many bits.\n",
    "def gather_bits(entropy_source, n, redundancy=1.0):\n",
    "    num_bits = math.ceil(bit_span(n) * redundancy)\n",
    "    bits = 0\n",
    "    positioned_bit = 1\n",
    "    for bit_index in range(num_bits):\n",
    "        if next(entropy_source[\"bit_generator\"]):\n",
    "            bits |= positioned_bit\n",
    "        positioned_bit <<= 1\n",
    "    return bits"
   ]
  },
  {
   "cell_type": "code",
   "execution_count": 149,
   "metadata": {
    "collapsed": false
   },
   "outputs": [
    {
     "name": "stdout",
     "output_type": "stream",
     "text": [
      "124\n",
      "7 bits consumed so far.\n"
     ]
    }
   ],
   "source": [
    "# Test it out\n",
    "foo = make_pseudorandom_entropy_source()\n",
    "print(gather_bits(foo, 123))\n",
    "print(foo[\"num_bits_consumed\"], \"bits consumed so far.\")"
   ]
  },
  {
   "cell_type": "code",
   "execution_count": 110,
   "metadata": {
    "collapsed": true
   },
   "outputs": [],
   "source": [
    "# Next, we will implement a variety of different die-rolling algorithms\n",
    "# and compare their entropy usage, both in theory and by running some experiments."
   ]
  },
  {
   "cell_type": "code",
   "execution_count": 104,
   "metadata": {
    "collapsed": false
   },
   "outputs": [],
   "source": [
    "# Gather the minimum number of bits required, then perform a modulo\n",
    "# on the random bits and return the result.\n",
    "def modulo_die_roller(entropy_source, n):\n",
    "    return gather_bits(entropy_source, n) % n"
   ]
  },
  {
   "cell_type": "code",
   "execution_count": 105,
   "metadata": {
    "collapsed": false
   },
   "outputs": [
    {
     "name": "stdout",
     "output_type": "stream",
     "text": [
      "108\n",
      "7 bits consumed so far.\n"
     ]
    }
   ],
   "source": [
    "# Test it out\n",
    "foo = make_pseudorandom_entropy_source()\n",
    "print(modulo_die_roller(foo, 123)) # 7 bits required\n",
    "print(foo[\"num_bits_consumed\"], \"bits consumed so far.\")"
   ]
  },
  {
   "cell_type": "code",
   "execution_count": null,
   "metadata": {
    "collapsed": true
   },
   "outputs": [],
   "source": [
    "# TODO: use matplotlib to plot the modulo function, to show that it's not fair."
   ]
  },
  {
   "cell_type": "code",
   "execution_count": null,
   "metadata": {
    "collapsed": true
   },
   "outputs": [],
   "source": [
    "# Same as above, but use extra bits to improve the fairness.\n",
    "def generous_modulo_die_roller(entropy_source, n, redundancy):\n",
    "    assert redundancy >= 1.0"
   ]
  },
  {
   "cell_type": "code",
   "execution_count": 106,
   "metadata": {
    "collapsed": true
   },
   "outputs": [],
   "source": [
    "# TODO: plot redundancy versus estimated fairness with lots of data"
   ]
  },
  {
   "cell_type": "code",
   "execution_count": 150,
   "metadata": {
    "collapsed": true
   },
   "outputs": [],
   "source": [
    "def rejection_sampling_die_roller(entropy_source, n):\n",
    "    while True:\n",
    "        random_bits = gather_bits(entropy_source, n)\n",
    "        if random_bits < n:\n",
    "            return random_bits"
   ]
  },
  {
   "cell_type": "code",
   "execution_count": 151,
   "metadata": {
    "collapsed": true
   },
   "outputs": [],
   "source": [
    "def generous_rejection_sampling_die_roller(entropy_source, n, redundancy):\n",
    "    num_bits = bit_span(n)\n",
    "    # There are exactly n * M values <= n, where M is a positive integer.\n",
    "    max_accepted_value = ((1 << bits_to_use) // n) * n - 1\n",
    "    while True:\n",
    "        random_bits = gather_bits(entropy_source, n, redundancy)\n",
    "        if random_bits <= max_accepted_value:\n",
    "            return random_bits"
   ]
  },
  {
   "cell_type": "code",
   "execution_count": 152,
   "metadata": {
    "collapsed": true
   },
   "outputs": [],
   "source": [
    "# TODO: graphs"
   ]
  },
  {
   "cell_type": "code",
   "execution_count": null,
   "metadata": {
    "collapsed": true
   },
   "outputs": [],
   "source": [
    "# TODO: look back at methods so far, summarize pros and cons\n",
    "# recognize tradeoff between fairness, runtime, and entropy usage.\n"
   ]
  },
  {
   "cell_type": "code",
   "execution_count": null,
   "metadata": {
    "collapsed": true
   },
   "outputs": [],
   "source": [
    "# TODO: more entropy-efficient methods"
   ]
  },
  {
   "cell_type": "code",
   "execution_count": null,
   "metadata": {
    "collapsed": true
   },
   "outputs": [],
   "source": []
  },
  {
   "cell_type": "code",
   "execution_count": 1,
   "metadata": {
    "collapsed": true
   },
   "outputs": [],
   "source": [
    "def range_encode(sequence, limits):\n",
    "    assert type(sequence) is list or type(sequence) is iter\n",
    "    assert type(limits) is list or type(limits) is iter\n",
    "    assert len(sequence) <= len(limits)\n",
    "    \n",
    "    if type(sequence) is list:\n",
    "        sequence = iter(sequence)\n",
    "    \n",
    "    if type(limits) is list:\n",
    "        limits = iter(limits)\n",
    "    \n",
    "    encoded = 0\n",
    "    factor = 1\n",
    "    for value in sequence:\n",
    "        next_limit = next(limits)\n",
    "        if value >= next_limit:\n",
    "            raise Exception(\"Error: each value[n] must be in range(limit[n])\")\n",
    "        \n",
    "        encoded += value * factor\n",
    "        factor *= next_limit\n",
    "    \n",
    "    return encoded"
   ]
  },
  {
   "cell_type": "code",
   "execution_count": 2,
   "metadata": {
    "collapsed": true
   },
   "outputs": [],
   "source": [
    "def range_decode(encoded, limits):\n",
    "    assert type(limits) is list or type(limits) is iter\n",
    "    \n",
    "    result = []\n",
    "    for limit in limits:\n",
    "        result.append(encoded % limit)\n",
    "        encoded //= limit\n",
    "\n",
    "    return result"
   ]
  },
  {
   "cell_type": "code",
   "execution_count": null,
   "metadata": {
    "collapsed": true
   },
   "outputs": [],
   "source": []
  }
 ],
 "metadata": {
  "kernelspec": {
   "display_name": "Python 3",
   "language": "python",
   "name": "python3"
  },
  "language_info": {
   "codemirror_mode": {
    "name": "ipython",
    "version": 3
   },
   "file_extension": ".py",
   "mimetype": "text/x-python",
   "name": "python",
   "nbconvert_exporter": "python",
   "pygments_lexer": "ipython3",
   "version": "3.5.1"
  }
 },
 "nbformat": 4,
 "nbformat_minor": 0
}
